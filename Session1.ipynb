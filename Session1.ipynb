{
 "cells": [
  {
   "cell_type": "markdown",
   "metadata": {},
   "source": [
    "### Beginner Python Hands On Notebook\n"
   ]
  },
  {
   "cell_type": "markdown",
   "metadata": {},
   "source": [
    "##### This notebook will help the readers understand the concepts of python through hands on examples "
   ]
  },
  {
   "cell_type": "markdown",
   "metadata": {},
   "source": [
    "Understanding for/else and break "
   ]
  },
  {
   "cell_type": "code",
   "execution_count": 14,
   "metadata": {
    "scrolled": true
   },
   "outputs": [
    {
     "name": "stdout",
     "output_type": "stream",
     "text": [
      "A\n",
      "b\n",
      "R\n",
      "a\n",
      "C\n",
      "a\n",
      "D\n",
      "a\n",
      "b\n",
      "R\n",
      "a\n"
     ]
    }
   ],
   "source": [
    "# Section 1: A simple for statement iterates over a sequence \n",
    "for eachLetter in \"AbRaCaDabRa\":\n",
    "    print(eachLetter)"
   ]
  },
  {
   "cell_type": "code",
   "execution_count": 15,
   "metadata": {},
   "outputs": [
    {
     "name": "stdout",
     "output_type": "stream",
     "text": [
      "4 is a Multiple of 4\n",
      "8 is a Multiple of 4\n",
      "12 is a Multiple of 4\n",
      "15 is a Non multiple ! Exiting!\n"
     ]
    }
   ],
   "source": [
    "#Section 2 \n",
    "#break statement causes the loop to stop iteration and exit\n",
    "for eachNumber in [4,8,12,15,20,24]:\n",
    "    \n",
    "    if eachNumber % 4 == 0:\n",
    "        print(str(eachNumber)+ \" is a Multiple of 4\")\n",
    "    else:\n",
    "        print(str(eachNumber)+\" is a Non multiple ! Exiting!\")\n",
    "        break "
   ]
  },
  {
   "cell_type": "code",
   "execution_count": 16,
   "metadata": {},
   "outputs": [
    {
     "name": "stdout",
     "output_type": "stream",
     "text": [
      "4 is a Multiple of 4\n",
      "8 is a Multiple of 4\n",
      "12 is a Multiple of 4\n",
      "16 is a Multiple of 4\n",
      "20 is a Multiple of 4\n",
      "24 is a Multiple of 4\n",
      "no non multiples of 4 found\n"
     ]
    }
   ],
   "source": [
    "#Section 3 \n",
    "#the else clause of a for/else statement executes when there is no break statement encountered\n",
    "for eachNumber in [4,8,12,16,20,24]:\n",
    "    \n",
    "    if eachNumber % 4 == 0:\n",
    "        print(str(eachNumber)+ \" is a Multiple of 4\")\n",
    "    else:\n",
    "        print(str(eachNumber)+\" is a Non multiple ! Exiting!\")\n",
    "        break \n",
    "    \n",
    "else:\n",
    "    print(\"no non multiples of 4 found\")"
   ]
  },
  {
   "cell_type": "code",
   "execution_count": 17,
   "metadata": {},
   "outputs": [
    {
     "name": "stdout",
     "output_type": "stream",
     "text": [
      "1\n",
      "2\n",
      "3\n",
      "4\n",
      "5\n"
     ]
    }
   ],
   "source": [
    "# Section 4 \n",
    "#executing a while loop. \n",
    "#The loop below prints the number as long as they are \"less than 6\" (Condition) \n",
    "i = 1\n",
    "while i < 6:\n",
    "  print(i)\n",
    "  i += 1"
   ]
  },
  {
   "cell_type": "code",
   "execution_count": 18,
   "metadata": {},
   "outputs": [],
   "source": [
    "#Question 1 : Write a while loop to imitate the same check which is being done in \n"
   ]
  },
  {
   "cell_type": "code",
   "execution_count": 19,
   "metadata": {},
   "outputs": [
    {
     "name": "stdout",
     "output_type": "stream",
     "text": [
      "9\n"
     ]
    }
   ],
   "source": [
    "#Section 5 : Function definition and fucntion call\n",
    "\n",
    "def findMax(num1,num2):\n",
    "    if num1 > num2 :\n",
    "        return num1\n",
    "    return num2 \n",
    "\n",
    "maxOfTwoNumbers=findMax(5,9)\n",
    "\n",
    "print(maxOfTwoNumbers)\n"
   ]
  },
  {
   "cell_type": "code",
   "execution_count": 20,
   "metadata": {},
   "outputs": [],
   "source": [
    "#Question 2 :\n",
    "#Code a function to find the max of a list of numbers without using the python in-built max function \n"
   ]
  },
  {
   "cell_type": "code",
   "execution_count": 23,
   "metadata": {},
   "outputs": [
    {
     "name": "stdout",
     "output_type": "stream",
     "text": [
      "0\n",
      " Hey I was here 0th time :)\n",
      "1\n",
      " Hey I was here 1th time :)\n",
      "2\n",
      " Hey I was here 2th time :)\n",
      "3\n",
      " Hey I was here 3th time :)\n",
      "4\n",
      " Hey I was here 4th time :)\n",
      "5\n",
      " Hey I was here 5th time :)\n",
      "6\n",
      " Hey I was here 6th time :)\n",
      "7\n",
      " Hey I was here 7th time :)\n",
      "8\n",
      " Hey I was here 8th time :)\n",
      "9\n",
      " Hey I was here 9th time :)\n"
     ]
    }
   ],
   "source": [
    "# Section 5: Generator functions\n",
    "\n",
    "def testGen(M):\n",
    "    for i in range(M):\n",
    "        yield i\n",
    "        print(\" Hey I was here \"+str(i)+\"th time :)\")\n",
    "\n",
    "\n",
    "for each in testGen(10):\n",
    "    print(each)"
   ]
  },
  {
   "cell_type": "code",
   "execution_count": 22,
   "metadata": {},
   "outputs": [
    {
     "data": {
      "text/plain": [
       "27"
      ]
     },
     "execution_count": 22,
     "metadata": {},
     "output_type": "execute_result"
    }
   ],
   "source": [
    "#Section 6 : Lambdas\n",
    "# write a lambda expression to take three values, add the first two and raise it to the third value\n",
    "\n",
    "f=lambda x,y,z:(x+y)**z\n",
    "f(1,2,3)"
   ]
  },
  {
   "cell_type": "code",
   "execution_count": 26,
   "metadata": {},
   "outputs": [
    {
     "data": {
      "text/plain": [
       "[0, 1, 4, 9, 16, 25, 36, 49, 64, 81]"
      ]
     },
     "execution_count": 26,
     "metadata": {},
     "output_type": "execute_result"
    }
   ],
   "source": [
    "#Section 7 : Comprehensions\n",
    "\n",
    "[x * x for x in range(10)]# List comprehension: builds list\n",
    "#(x * x for x in range(10))# Generator expression: produces items\n",
    "#{x * x for x in range(10)}# Set comprehension\n",
    "#{x: x * x for x in range(10)}# Dictionary comprehension"
   ]
  },
  {
   "cell_type": "code",
   "execution_count": 31,
   "metadata": {},
   "outputs": [
    {
     "name": "stdout",
     "output_type": "stream",
     "text": [
      "I am in a python class\n"
     ]
    }
   ],
   "source": [
    "# Section 8: Defining Classes\n",
    "\n",
    "class FirstClass: # Define a class object\n",
    "    def setdata(self, value): # Define class's methods\n",
    "        self.data = value # self is the instance\n",
    "    def display(self):\n",
    "        print(self.data)\n",
    "\n",
    "x=FirstClass()\n",
    "x.setdata(\"I am in a python class\")\n",
    "x.display()"
   ]
  },
  {
   "cell_type": "code",
   "execution_count": 39,
   "metadata": {},
   "outputs": [
    {
     "name": "stdout",
     "output_type": "stream",
     "text": [
      "Current value from display function of sublcass = \"42\"\n",
      "Current value from added function = \"42\"\n"
     ]
    }
   ],
   "source": [
    "# Using Inheritance to add or change behaviour\n",
    "\n",
    "class SecondClass(FirstClass): # Inherits setdata\n",
    "    def nicedisplay(self): # Changes display\n",
    "        print('Current value from added function = \"%s\"' % self.data)\n",
    "    def display(self):\n",
    "        print('Current value from display function of sublcass = \"%s\"' % self.data)\n",
    "y=SecondClass()\n",
    "y.setdata(42)\n",
    "y.display()\n",
    "y.nicedisplay()"
   ]
  }
 ],
 "metadata": {
  "kernelspec": {
   "display_name": "Python 3",
   "language": "python",
   "name": "python3"
  },
  "language_info": {
   "codemirror_mode": {
    "name": "ipython",
    "version": 3
   },
   "file_extension": ".py",
   "mimetype": "text/x-python",
   "name": "python",
   "nbconvert_exporter": "python",
   "pygments_lexer": "ipython3",
   "version": "3.6.5"
  }
 },
 "nbformat": 4,
 "nbformat_minor": 2
}
